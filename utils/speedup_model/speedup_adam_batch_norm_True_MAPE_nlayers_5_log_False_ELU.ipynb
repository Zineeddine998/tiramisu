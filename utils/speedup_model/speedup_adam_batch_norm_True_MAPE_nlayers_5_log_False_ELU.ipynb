{
 "cells": [
  {
   "cell_type": "code",
   "execution_count": 1,
   "metadata": {},
   "outputs": [],
   "source": [
    "from os import environ\n",
    "\n",
    "environ['optimizer'] = 'Adam'\n",
    "environ['num_workers']= '2'\n",
    "environ['batch_size']= '8192'\n",
    "environ['n_epochs']= '1500'\n",
    "environ['batch_norm']= 'True'\n",
    "environ['loss_func']='MAPE'\n",
    "environ['layers'] = '600 350 200 180'\n",
    "environ['dropouts'] = '0.3 '*4\n",
    "environ['log'] = 'False'\n",
    "environ['weight_decay'] = '0.01'\n",
    "environ['cuda_device'] ='cuda:0'\n",
    "environ['dataset'] = '/data/scratch/mmerouani/data/speedup_dataset_research_batch1001-2000.pkl'\n",
    "\n",
    "%run utils.ipynb"
   ]
  },
  {
   "cell_type": "code",
   "execution_count": 3,
   "metadata": {},
   "outputs": [
    {
     "name": "stdout",
     "output_type": "stream",
     "text": [
      "loading data\n"
     ]
    },
    {
     "name": "stderr",
     "output_type": "stream",
     "text": [
      "100%|██████████| 305800/305800 [09:20<00:00, 545.50it/s] \n"
     ]
    },
    {
     "name": "stdout",
     "output_type": "stream",
     "text": [
      "data loaded\n",
      "(305800, 3592)\n"
     ]
    }
   ],
   "source": [
    "print(\"loading data\")\n",
    "\n",
    "train_dl, val_dl, test_dl = train_dev_split(dataset,val_size=10000, test_size=10000, batch_size=batch_size, num_workers=num_workers, log=log)\n",
    "# train_dl, val_dl, test_dl = train_dev_split_filter(dataset,val_size=10000, test_size=10000, batch_size=batch_size, num_workers=num_workers, log=log, speedup_lo_bound=0.2)\n",
    "db = fai.basic_data.DataBunch(train_dl, val_dl, test_dl, device=device)\n",
    "\n",
    "print(\"data loaded\")\n",
    "print(val_dl.dataset.X.shape)"
   ]
  },
  {
   "cell_type": "code",
   "execution_count": 4,
   "metadata": {},
   "outputs": [],
   "source": [
    "input_size = train_dl.dataset.X.shape[1]\n",
    "output_size = train_dl.dataset.Y.shape[1]\n",
    "\n",
    "model = None \n",
    "\n",
    "if batch_norm:\n",
    "    model = Model_BN_ELU(input_size, output_size, hidden_sizes=layers_sizes, drops=drops)\n",
    "else:\n",
    "    model = Model(input_size, output_size)\n",
    "\n",
    "# model = nn.DataParallel(model)\n",
    "# model.to(device)\n",
    "\n",
    "if loss_func == 'MSE':\n",
    "    criterion = nn.MSELoss()\n",
    "else:\n",
    "    criterion = mape_criterion\n",
    "\n",
    "l = fai.basic_train.Learner(db, model, loss_func=criterion, metrics=[mape_criterion, rmse_criterion],\n",
    "                            callback_fns=[partial(EarlyStoppingCallback, mode='min', \n",
    "                            monitor='mape_criterion', min_delta=0, patience=150)],silent=True)\n",
    "\n",
    "if optimizer == 'SGD':\n",
    "    l.opt_func = optim.SGD \n",
    "    "
   ]
  },
  {
   "cell_type": "code",
   "execution_count": 5,
   "metadata": {},
   "outputs": [
    {
     "data": {
      "text/html": [],
      "text/plain": [
       "<IPython.core.display.HTML object>"
      ]
     },
     "metadata": {},
     "output_type": "display_data"
    },
    {
     "name": "stdout",
     "output_type": "stream",
     "text": [
      "LR Finder is complete, type {learner_name}.recorder.plot() to see the graph.\n"
     ]
    },
    {
     "data": {
      "image/png": "[encoded data removed]",
      "text/plain": [
       "<Figure size 432x288 with 1 Axes>"
      ]
     },
     "metadata": {
      "needs_background": "light"
     },
     "output_type": "display_data"
    }
   ],
   "source": [
    "l.lr_find()\n",
    "l.recorder.plot()"
   ]
  },
  {
   "cell_type": "code",
   "execution_count": 6,
   "metadata": {},
   "outputs": [],
   "source": [
    "lr = 1e-02"
   ]
  },
  {
   "cell_type": "code",
   "execution_count": 7,
   "metadata": {
    "scrolled": true
   },
   "outputs": [
    {
     "data": {
      "text/html": [
       "\n",
       "    <div>\n",
       "        <style>\n",
       "            /* Turns off some styling */\n",
       "            progress {\n",
       "                /* gets rid of default border in Firefox and Opera. */\n",
       "                border: none;\n",
       "                /* Needs to be in here for Safari polyfill so background images work as expected. */\n",
       "                background-size: auto;\n",
       "            }\n",
       "            .progress-bar-interrupted, .progress-bar-interrupted::-webkit-progress-bar {\n",
       "                background: #F44336;\n",
       "            }\n",
       "        </style>\n",
       "      <progress value='660' class='' max='1500', style='width:300px; height:20px; vertical-align: middle;'></progress>\n",
       "      44.00% [660/1500 1:34:15<1:59:57]\n",
       "    </div>\n",
       "    \n",
       "\n",
       "\n",
       "    <div>\n",
       "        <style>\n",
       "            /* Turns off some styling */\n",
       "            progress {\n",
       "                /* gets rid of default border in Firefox and Opera. */\n",
       "                border: none;\n",
       "                /* Needs to be in here for Safari polyfill so background images work as expected. */\n",
       "                background-size: auto;\n",
       "            }\n",
       "            .progress-bar-interrupted, .progress-bar-interrupted::-webkit-progress-bar {\n",
       "                background: #F44336;\n",
       "            }\n",
       "        </style>\n",
       "      <progress value='2' class='' max='2', style='width:300px; height:20px; vertical-align: middle;'></progress>\n",
       "      100.00% [2/2 00:00<00:00]\n",
       "    </div>\n",
       "    "
      ],
      "text/plain": [
       "<IPython.core.display.HTML object>"
      ]
     },
     "metadata": {},
     "output_type": "display_data"
    },
    {
     "name": "stdout",
     "output_type": "stream",
     "text": [
      "Epoch 660: early stopping\n"
     ]
    }
   ],
   "source": [
    "l.fit_one_cycle(1500, lr)"
   ]
  },
  {
   "cell_type": "code",
   "execution_count": 8,
   "metadata": {},
   "outputs": [
    {
     "data": {
      "image/png": "[encoded data removed]",
      "text/plain": [
       "<Figure size 432x288 with 1 Axes>"
      ]
     },
     "metadata": {
      "needs_background": "light"
     },
     "output_type": "display_data"
    }
   ],
   "source": [
    "l.recorder.plot_losses()"
   ]
  },
  {
   "cell_type": "code",
   "execution_count": null,
   "metadata": {
    "scrolled": true
   },
   "outputs": [],
   "source": [
    "l.save(f\"speedup_{optimizer}_batch_norm_{batch_norm}_{loss_func}_nlayers_{len(layers_sizes)}_log_{log}_batch1001-2000_ELU\")"
   ]
  },
  {
   "cell_type": "code",
   "execution_count": 13,
   "metadata": {},
   "outputs": [],
   "source": [
    "val_df = get_results_df(val_dl, l.model)\n",
    "train_df = get_results_df(train_dl, l.model)\n",
    "test_df=get_results_df(test_dl, l.model)"
   ]
  },
  {
   "cell_type": "code",
   "execution_count": 14,
   "metadata": {},
   "outputs": [
    {
     "data": {
      "text/html": [
       "<div>\n",
       "<style scoped>\n",
       "    .dataframe tbody tr th:only-of-type {\n",
       "        vertical-align: middle;\n",
       "    }\n",
       "\n",
       "    .dataframe tbody tr th {\n",
       "        vertical-align: top;\n",
       "    }\n",
       "\n",
       "    .dataframe thead th {\n",
       "        text-align: right;\n",
       "    }\n",
       "</style>\n",
       "<table border=\"1\" class=\"dataframe\">\n",
       "  <thead>\n",
       "    <tr style=\"text-align: right;\">\n",
       "      <th></th>\n",
       "      <th>index</th>\n",
       "      <th>prediction</th>\n",
       "      <th>target</th>\n",
       "      <th>abs_diff</th>\n",
       "      <th>APE</th>\n",
       "      <th>SMAPE</th>\n",
       "      <th>interchange</th>\n",
       "      <th>tile</th>\n",
       "      <th>unroll</th>\n",
       "    </tr>\n",
       "  </thead>\n",
       "  <tbody>\n",
       "    <tr>\n",
       "      <th>count</th>\n",
       "      <td>10000.00000</td>\n",
       "      <td>10000.000000</td>\n",
       "      <td>10000.000000</td>\n",
       "      <td>1.000000e+04</td>\n",
       "      <td>10000.000000</td>\n",
       "      <td>10000.000000</td>\n",
       "      <td>10000.000000</td>\n",
       "      <td>10000.000000</td>\n",
       "      <td>10000.000000</td>\n",
       "    </tr>\n",
       "    <tr>\n",
       "      <th>mean</th>\n",
       "      <td>4999.50000</td>\n",
       "      <td>0.401473</td>\n",
       "      <td>0.438427</td>\n",
       "      <td>7.721746e-02</td>\n",
       "      <td>24.536396</td>\n",
       "      <td>25.908989</td>\n",
       "      <td>0.757900</td>\n",
       "      <td>0.940400</td>\n",
       "      <td>0.750000</td>\n",
       "    </tr>\n",
       "    <tr>\n",
       "      <th>std</th>\n",
       "      <td>2886.89568</td>\n",
       "      <td>0.342628</td>\n",
       "      <td>0.384616</td>\n",
       "      <td>1.212221e-01</td>\n",
       "      <td>34.472652</td>\n",
       "      <td>32.096619</td>\n",
       "      <td>0.428376</td>\n",
       "      <td>0.236756</td>\n",
       "      <td>0.433034</td>\n",
       "    </tr>\n",
       "    <tr>\n",
       "      <th>min</th>\n",
       "      <td>0.00000</td>\n",
       "      <td>0.000000</td>\n",
       "      <td>0.004559</td>\n",
       "      <td>8.344650e-07</td>\n",
       "      <td>0.000079</td>\n",
       "      <td>0.000079</td>\n",
       "      <td>0.000000</td>\n",
       "      <td>0.000000</td>\n",
       "      <td>0.000000</td>\n",
       "    </tr>\n",
       "    <tr>\n",
       "      <th>25%</th>\n",
       "      <td>2499.75000</td>\n",
       "      <td>0.080136</td>\n",
       "      <td>0.086719</td>\n",
       "      <td>1.135659e-02</td>\n",
       "      <td>6.358892</td>\n",
       "      <td>6.396956</td>\n",
       "      <td>1.000000</td>\n",
       "      <td>1.000000</td>\n",
       "      <td>0.750000</td>\n",
       "    </tr>\n",
       "    <tr>\n",
       "      <th>50%</th>\n",
       "      <td>4999.50000</td>\n",
       "      <td>0.281474</td>\n",
       "      <td>0.309265</td>\n",
       "      <td>3.745474e-02</td>\n",
       "      <td>14.694213</td>\n",
       "      <td>15.106338</td>\n",
       "      <td>1.000000</td>\n",
       "      <td>1.000000</td>\n",
       "      <td>1.000000</td>\n",
       "    </tr>\n",
       "    <tr>\n",
       "      <th>75%</th>\n",
       "      <td>7499.25000</td>\n",
       "      <td>0.722925</td>\n",
       "      <td>0.775881</td>\n",
       "      <td>9.714109e-02</td>\n",
       "      <td>29.855874</td>\n",
       "      <td>31.719110</td>\n",
       "      <td>1.000000</td>\n",
       "      <td>1.000000</td>\n",
       "      <td>1.000000</td>\n",
       "    </tr>\n",
       "    <tr>\n",
       "      <th>max</th>\n",
       "      <td>9999.00000</td>\n",
       "      <td>1.264980</td>\n",
       "      <td>2.645030</td>\n",
       "      <td>1.504885e+00</td>\n",
       "      <td>509.495300</td>\n",
       "      <td>200.000015</td>\n",
       "      <td>1.000000</td>\n",
       "      <td>1.000000</td>\n",
       "      <td>1.000000</td>\n",
       "    </tr>\n",
       "  </tbody>\n",
       "</table>\n",
       "</div>"
      ],
      "text/plain": [
       "             index    prediction        target      abs_diff           APE  \\\n",
       "count  10000.00000  10000.000000  10000.000000  1.000000e+04  10000.000000   \n",
       "mean    4999.50000      0.401473      0.438427  7.721746e-02     24.536396   \n",
       "std     2886.89568      0.342628      0.384616  1.212221e-01     34.472652   \n",
       "min        0.00000      0.000000      0.004559  8.344650e-07      0.000079   \n",
       "25%     2499.75000      0.080136      0.086719  1.135659e-02      6.358892   \n",
       "50%     4999.50000      0.281474      0.309265  3.745474e-02     14.694213   \n",
       "75%     7499.25000      0.722925      0.775881  9.714109e-02     29.855874   \n",
       "max     9999.00000      1.264980      2.645030  1.504885e+00    509.495300   \n",
       "\n",
       "              SMAPE   interchange          tile        unroll  \n",
       "count  10000.000000  10000.000000  10000.000000  10000.000000  \n",
       "mean      25.908989      0.757900      0.940400      0.750000  \n",
       "std       32.096619      0.428376      0.236756      0.433034  \n",
       "min        0.000079      0.000000      0.000000      0.000000  \n",
       "25%        6.396956      1.000000      1.000000      0.750000  \n",
       "50%       15.106338      1.000000      1.000000      1.000000  \n",
       "75%       31.719110      1.000000      1.000000      1.000000  \n",
       "max      200.000015      1.000000      1.000000      1.000000  "
      ]
     },
     "execution_count": 14,
     "metadata": {},
     "output_type": "execute_result"
    }
   ],
   "source": [
    "test_df.describe()"
   ]
  },
  {
   "cell_type": "code",
   "execution_count": 15,
   "metadata": {},
   "outputs": [
    {
     "data": {
      "text/html": [
       "<div>\n",
       "<style scoped>\n",
       "    .dataframe tbody tr th:only-of-type {\n",
       "        vertical-align: middle;\n",
       "    }\n",
       "\n",
       "    .dataframe tbody tr th {\n",
       "        vertical-align: top;\n",
       "    }\n",
       "\n",
       "    .dataframe thead th {\n",
       "        text-align: right;\n",
       "    }\n",
       "</style>\n",
       "<table border=\"1\" class=\"dataframe\">\n",
       "  <thead>\n",
       "    <tr style=\"text-align: right;\">\n",
       "      <th></th>\n",
       "      <th>index</th>\n",
       "      <th>prediction</th>\n",
       "      <th>target</th>\n",
       "      <th>abs_diff</th>\n",
       "      <th>APE</th>\n",
       "      <th>SMAPE</th>\n",
       "      <th>interchange</th>\n",
       "      <th>tile</th>\n",
       "      <th>unroll</th>\n",
       "    </tr>\n",
       "  </thead>\n",
       "  <tbody>\n",
       "    <tr>\n",
       "      <th>count</th>\n",
       "      <td>10000.00000</td>\n",
       "      <td>10000.000000</td>\n",
       "      <td>10000.000000</td>\n",
       "      <td>10000.000000</td>\n",
       "      <td>10000.000000</td>\n",
       "      <td>10000.000000</td>\n",
       "      <td>10000.000000</td>\n",
       "      <td>10000.000000</td>\n",
       "      <td>10000.000000</td>\n",
       "    </tr>\n",
       "    <tr>\n",
       "      <th>mean</th>\n",
       "      <td>14999.50000</td>\n",
       "      <td>0.392823</td>\n",
       "      <td>0.434748</td>\n",
       "      <td>0.090022</td>\n",
       "      <td>22.633327</td>\n",
       "      <td>25.077196</td>\n",
       "      <td>0.782900</td>\n",
       "      <td>0.947300</td>\n",
       "      <td>0.750000</td>\n",
       "    </tr>\n",
       "    <tr>\n",
       "      <th>std</th>\n",
       "      <td>2886.89568</td>\n",
       "      <td>0.331842</td>\n",
       "      <td>0.526266</td>\n",
       "      <td>0.353471</td>\n",
       "      <td>27.143410</td>\n",
       "      <td>32.464207</td>\n",
       "      <td>0.412292</td>\n",
       "      <td>0.223445</td>\n",
       "      <td>0.433034</td>\n",
       "    </tr>\n",
       "    <tr>\n",
       "      <th>min</th>\n",
       "      <td>10000.00000</td>\n",
       "      <td>0.000000</td>\n",
       "      <td>0.004063</td>\n",
       "      <td>0.000003</td>\n",
       "      <td>0.000650</td>\n",
       "      <td>0.000650</td>\n",
       "      <td>0.000000</td>\n",
       "      <td>0.000000</td>\n",
       "      <td>0.000000</td>\n",
       "    </tr>\n",
       "    <tr>\n",
       "      <th>25%</th>\n",
       "      <td>12499.75000</td>\n",
       "      <td>0.076076</td>\n",
       "      <td>0.088260</td>\n",
       "      <td>0.009691</td>\n",
       "      <td>5.891518</td>\n",
       "      <td>5.908508</td>\n",
       "      <td>1.000000</td>\n",
       "      <td>1.000000</td>\n",
       "      <td>0.750000</td>\n",
       "    </tr>\n",
       "    <tr>\n",
       "      <th>50%</th>\n",
       "      <td>14999.50000</td>\n",
       "      <td>0.314611</td>\n",
       "      <td>0.323237</td>\n",
       "      <td>0.033802</td>\n",
       "      <td>13.292280</td>\n",
       "      <td>13.411684</td>\n",
       "      <td>1.000000</td>\n",
       "      <td>1.000000</td>\n",
       "      <td>1.000000</td>\n",
       "    </tr>\n",
       "    <tr>\n",
       "      <th>75%</th>\n",
       "      <td>17499.25000</td>\n",
       "      <td>0.679467</td>\n",
       "      <td>0.683457</td>\n",
       "      <td>0.085446</td>\n",
       "      <td>28.448272</td>\n",
       "      <td>29.197307</td>\n",
       "      <td>1.000000</td>\n",
       "      <td>1.000000</td>\n",
       "      <td>1.000000</td>\n",
       "    </tr>\n",
       "    <tr>\n",
       "      <th>max</th>\n",
       "      <td>19999.00000</td>\n",
       "      <td>1.406221</td>\n",
       "      <td>6.865816</td>\n",
       "      <td>5.642678</td>\n",
       "      <td>367.176056</td>\n",
       "      <td>200.000015</td>\n",
       "      <td>1.000000</td>\n",
       "      <td>1.000000</td>\n",
       "      <td>1.000000</td>\n",
       "    </tr>\n",
       "  </tbody>\n",
       "</table>\n",
       "</div>"
      ],
      "text/plain": [
       "             index    prediction        target      abs_diff           APE  \\\n",
       "count  10000.00000  10000.000000  10000.000000  10000.000000  10000.000000   \n",
       "mean   14999.50000      0.392823      0.434748      0.090022     22.633327   \n",
       "std     2886.89568      0.331842      0.526266      0.353471     27.143410   \n",
       "min    10000.00000      0.000000      0.004063      0.000003      0.000650   \n",
       "25%    12499.75000      0.076076      0.088260      0.009691      5.891518   \n",
       "50%    14999.50000      0.314611      0.323237      0.033802     13.292280   \n",
       "75%    17499.25000      0.679467      0.683457      0.085446     28.448272   \n",
       "max    19999.00000      1.406221      6.865816      5.642678    367.176056   \n",
       "\n",
       "              SMAPE   interchange          tile        unroll  \n",
       "count  10000.000000  10000.000000  10000.000000  10000.000000  \n",
       "mean      25.077196      0.782900      0.947300      0.750000  \n",
       "std       32.464207      0.412292      0.223445      0.433034  \n",
       "min        0.000650      0.000000      0.000000      0.000000  \n",
       "25%        5.908508      1.000000      1.000000      0.750000  \n",
       "50%       13.411684      1.000000      1.000000      1.000000  \n",
       "75%       29.197307      1.000000      1.000000      1.000000  \n",
       "max      200.000015      1.000000      1.000000      1.000000  "
      ]
     },
     "execution_count": 15,
     "metadata": {},
     "output_type": "execute_result"
    }
   ],
   "source": [
    "val_df.describe()"
   ]
  },
  {
   "cell_type": "code",
   "execution_count": 16,
   "metadata": {},
   "outputs": [
    {
     "data": {
      "text/html": [
       "<div>\n",
       "<style scoped>\n",
       "    .dataframe tbody tr th:only-of-type {\n",
       "        vertical-align: middle;\n",
       "    }\n",
       "\n",
       "    .dataframe tbody tr th {\n",
       "        vertical-align: top;\n",
       "    }\n",
       "\n",
       "    .dataframe thead th {\n",
       "        text-align: right;\n",
       "    }\n",
       "</style>\n",
       "<table border=\"1\" class=\"dataframe\">\n",
       "  <thead>\n",
       "    <tr style=\"text-align: right;\">\n",
       "      <th></th>\n",
       "      <th>index</th>\n",
       "      <th>prediction</th>\n",
       "      <th>target</th>\n",
       "      <th>abs_diff</th>\n",
       "      <th>APE</th>\n",
       "      <th>SMAPE</th>\n",
       "      <th>interchange</th>\n",
       "      <th>tile</th>\n",
       "      <th>unroll</th>\n",
       "    </tr>\n",
       "  </thead>\n",
       "  <tbody>\n",
       "    <tr>\n",
       "      <th>count</th>\n",
       "      <td>285800.000000</td>\n",
       "      <td>285800.000000</td>\n",
       "      <td>285800.000000</td>\n",
       "      <td>2.858000e+05</td>\n",
       "      <td>285800.000000</td>\n",
       "      <td>285800.000000</td>\n",
       "      <td>285800.000000</td>\n",
       "      <td>285800.000000</td>\n",
       "      <td>285800.000000</td>\n",
       "    </tr>\n",
       "    <tr>\n",
       "      <th>mean</th>\n",
       "      <td>162899.500000</td>\n",
       "      <td>0.391860</td>\n",
       "      <td>0.414619</td>\n",
       "      <td>4.910665e-02</td>\n",
       "      <td>12.998473</td>\n",
       "      <td>14.676644</td>\n",
       "      <td>0.768034</td>\n",
       "      <td>0.944097</td>\n",
       "      <td>0.750000</td>\n",
       "    </tr>\n",
       "    <tr>\n",
       "      <th>std</th>\n",
       "      <td>82503.497805</td>\n",
       "      <td>0.330325</td>\n",
       "      <td>0.446321</td>\n",
       "      <td>2.758215e-01</td>\n",
       "      <td>15.157892</td>\n",
       "      <td>22.287466</td>\n",
       "      <td>0.422088</td>\n",
       "      <td>0.229734</td>\n",
       "      <td>0.433013</td>\n",
       "    </tr>\n",
       "    <tr>\n",
       "      <th>min</th>\n",
       "      <td>20000.000000</td>\n",
       "      <td>0.000000</td>\n",
       "      <td>0.002826</td>\n",
       "      <td>8.195639e-08</td>\n",
       "      <td>0.000062</td>\n",
       "      <td>0.000062</td>\n",
       "      <td>0.000000</td>\n",
       "      <td>0.000000</td>\n",
       "      <td>0.000000</td>\n",
       "    </tr>\n",
       "    <tr>\n",
       "      <th>25%</th>\n",
       "      <td>91449.750000</td>\n",
       "      <td>0.082772</td>\n",
       "      <td>0.089102</td>\n",
       "      <td>6.069705e-03</td>\n",
       "      <td>3.807428</td>\n",
       "      <td>3.813382</td>\n",
       "      <td>1.000000</td>\n",
       "      <td>1.000000</td>\n",
       "      <td>0.750000</td>\n",
       "    </tr>\n",
       "    <tr>\n",
       "      <th>50%</th>\n",
       "      <td>162899.500000</td>\n",
       "      <td>0.303796</td>\n",
       "      <td>0.313525</td>\n",
       "      <td>1.949441e-02</td>\n",
       "      <td>8.587076</td>\n",
       "      <td>8.675624</td>\n",
       "      <td>1.000000</td>\n",
       "      <td>1.000000</td>\n",
       "      <td>1.000000</td>\n",
       "    </tr>\n",
       "    <tr>\n",
       "      <th>75%</th>\n",
       "      <td>234349.250000</td>\n",
       "      <td>0.687946</td>\n",
       "      <td>0.700698</td>\n",
       "      <td>5.104748e-02</td>\n",
       "      <td>16.477762</td>\n",
       "      <td>16.989822</td>\n",
       "      <td>1.000000</td>\n",
       "      <td>1.000000</td>\n",
       "      <td>1.000000</td>\n",
       "    </tr>\n",
       "    <tr>\n",
       "      <th>max</th>\n",
       "      <td>305799.000000</td>\n",
       "      <td>1.406889</td>\n",
       "      <td>26.579260</td>\n",
       "      <td>2.563630e+01</td>\n",
       "      <td>351.916443</td>\n",
       "      <td>200.000015</td>\n",
       "      <td>1.000000</td>\n",
       "      <td>1.000000</td>\n",
       "      <td>1.000000</td>\n",
       "    </tr>\n",
       "  </tbody>\n",
       "</table>\n",
       "</div>"
      ],
      "text/plain": [
       "               index     prediction         target      abs_diff  \\\n",
       "count  285800.000000  285800.000000  285800.000000  2.858000e+05   \n",
       "mean   162899.500000       0.391860       0.414619  4.910665e-02   \n",
       "std     82503.497805       0.330325       0.446321  2.758215e-01   \n",
       "min     20000.000000       0.000000       0.002826  8.195639e-08   \n",
       "25%     91449.750000       0.082772       0.089102  6.069705e-03   \n",
       "50%    162899.500000       0.303796       0.313525  1.949441e-02   \n",
       "75%    234349.250000       0.687946       0.700698  5.104748e-02   \n",
       "max    305799.000000       1.406889      26.579260  2.563630e+01   \n",
       "\n",
       "                 APE          SMAPE    interchange           tile  \\\n",
       "count  285800.000000  285800.000000  285800.000000  285800.000000   \n",
       "mean       12.998473      14.676644       0.768034       0.944097   \n",
       "std        15.157892      22.287466       0.422088       0.229734   \n",
       "min         0.000062       0.000062       0.000000       0.000000   \n",
       "25%         3.807428       3.813382       1.000000       1.000000   \n",
       "50%         8.587076       8.675624       1.000000       1.000000   \n",
       "75%        16.477762      16.989822       1.000000       1.000000   \n",
       "max       351.916443     200.000015       1.000000       1.000000   \n",
       "\n",
       "              unroll  \n",
       "count  285800.000000  \n",
       "mean        0.750000  \n",
       "std         0.433013  \n",
       "min         0.000000  \n",
       "25%         0.750000  \n",
       "50%         1.000000  \n",
       "75%         1.000000  \n",
       "max         1.000000  "
      ]
     },
     "execution_count": 16,
     "metadata": {},
     "output_type": "execute_result"
    }
   ],
   "source": [
    "train_df.describe()"
   ]
  },
  {
   "cell_type": "code",
   "execution_count": 17,
   "metadata": {},
   "outputs": [],
   "source": [
    "gdf_t=pd.DataFrame(train_df.groupby(['name']).mean())\n",
    "gdf_v=pd.DataFrame(val_df.groupby(['name']).mean())"
   ]
  },
  {
   "cell_type": "code",
   "execution_count": 18,
   "metadata": {},
   "outputs": [
    {
     "data": {
      "image/png": "[encoded data removed]",
      "text/plain": [
       "<Figure size 3600x720 with 1 Axes>"
      ]
     },
     "metadata": {
      "needs_background": "light"
     },
     "output_type": "display_data"
    }
   ],
   "source": [
    "sorted_df=val_df.sort_values(by=[\"target\"])\n",
    "label=list(sorted_df.index)\n",
    "mape=sorted_df['APE']\n",
    "index = np.arange(len(label))\n",
    "plt.figure(figsize=(50,10))\n",
    "plt.bar(index, mape)\n",
    "plt.xlabel('function', fontsize=5)\n",
    "plt.ylabel('mape', fontsize=5)\n",
    "plt.xticks(index, label, fontsize=5, rotation=30)\n",
    "plt.title('-')\n",
    "plt.show()"
   ]
  },
  {
   "cell_type": "code",
   "execution_count": null,
   "metadata": {},
   "outputs": [],
   "source": [
    "sorted_df=train_df.sort_values(by=[\"target\"])\n",
    "label=list(sorted_df.index)\n",
    "mape=sorted_df['APE']\n",
    "index = np.arange(len(label))\n",
    "plt.figure(figsize=(50,10))\n",
    "plt.bar(index, mape)\n",
    "plt.xlabel('function', fontsize=5)\n",
    "plt.ylabel('mape', fontsize=5)\n",
    "plt.xticks(index, label, fontsize=5, rotation=30)\n",
    "plt.title('-')\n",
    "plt.show()"
   ]
  },
  {
   "cell_type": "code",
   "execution_count": 19,
   "metadata": {},
   "outputs": [
    {
     "data": {
      "text/html": [
       "<div>\n",
       "<style scoped>\n",
       "    .dataframe tbody tr th:only-of-type {\n",
       "        vertical-align: middle;\n",
       "    }\n",
       "\n",
       "    .dataframe tbody tr th {\n",
       "        vertical-align: top;\n",
       "    }\n",
       "\n",
       "    .dataframe thead th {\n",
       "        text-align: right;\n",
       "    }\n",
       "</style>\n",
       "<table border=\"1\" class=\"dataframe\">\n",
       "  <thead>\n",
       "    <tr style=\"text-align: right;\">\n",
       "      <th></th>\n",
       "      <th>prediction</th>\n",
       "      <th>target</th>\n",
       "      <th>abs_diff</th>\n",
       "      <th>APE</th>\n",
       "    </tr>\n",
       "  </thead>\n",
       "  <tbody>\n",
       "    <tr>\n",
       "      <th>count</th>\n",
       "      <td>32.000000</td>\n",
       "      <td>32.0</td>\n",
       "      <td>32.000000</td>\n",
       "      <td>32.000000</td>\n",
       "    </tr>\n",
       "    <tr>\n",
       "      <th>mean</th>\n",
       "      <td>0.960304</td>\n",
       "      <td>1.0</td>\n",
       "      <td>0.068022</td>\n",
       "      <td>6.802162</td>\n",
       "    </tr>\n",
       "    <tr>\n",
       "      <th>std</th>\n",
       "      <td>0.141534</td>\n",
       "      <td>0.0</td>\n",
       "      <td>0.129932</td>\n",
       "      <td>12.993227</td>\n",
       "    </tr>\n",
       "    <tr>\n",
       "      <th>min</th>\n",
       "      <td>0.311098</td>\n",
       "      <td>1.0</td>\n",
       "      <td>0.003884</td>\n",
       "      <td>0.388354</td>\n",
       "    </tr>\n",
       "    <tr>\n",
       "      <th>25%</th>\n",
       "      <td>0.962318</td>\n",
       "      <td>1.0</td>\n",
       "      <td>0.015251</td>\n",
       "      <td>1.525092</td>\n",
       "    </tr>\n",
       "    <tr>\n",
       "      <th>50%</th>\n",
       "      <td>0.987631</td>\n",
       "      <td>1.0</td>\n",
       "      <td>0.026891</td>\n",
       "      <td>2.689058</td>\n",
       "    </tr>\n",
       "    <tr>\n",
       "      <th>75%</th>\n",
       "      <td>1.012899</td>\n",
       "      <td>1.0</td>\n",
       "      <td>0.050581</td>\n",
       "      <td>5.058101</td>\n",
       "    </tr>\n",
       "    <tr>\n",
       "      <th>max</th>\n",
       "      <td>1.219750</td>\n",
       "      <td>1.0</td>\n",
       "      <td>0.688902</td>\n",
       "      <td>68.890228</td>\n",
       "    </tr>\n",
       "  </tbody>\n",
       "</table>\n",
       "</div>"
      ],
      "text/plain": [
       "       prediction  target   abs_diff        APE\n",
       "count   32.000000    32.0  32.000000  32.000000\n",
       "mean     0.960304     1.0   0.068022   6.802162\n",
       "std      0.141534     0.0   0.129932  12.993227\n",
       "min      0.311098     1.0   0.003884   0.388354\n",
       "25%      0.962318     1.0   0.015251   1.525092\n",
       "50%      0.987631     1.0   0.026891   2.689058\n",
       "75%      1.012899     1.0   0.050581   5.058101\n",
       "max      1.219750     1.0   0.688902  68.890228"
      ]
     },
     "execution_count": 19,
     "metadata": {},
     "output_type": "execute_result"
    }
   ],
   "source": [
    "df = val_df\n",
    "df[(df.interchange==0) & (df.unroll == 0) & (df.tile == 0)][['prediction','target', 'abs_diff','APE']].describe()"
   ]
  },
  {
   "cell_type": "code",
   "execution_count": 20,
   "metadata": {},
   "outputs": [
    {
     "data": {
      "image/png": "[encoded data removed]",
      "text/plain": [
       "<Figure size 432x432 with 3 Axes>"
      ]
     },
     "metadata": {
      "needs_background": "light"
     },
     "output_type": "display_data"
    }
   ],
   "source": [
    "df1 = val_df[(df.interchange==0) & (df.unroll == 0) & (df.tile == 0)]\n",
    "#joint_plot(df1, f\"Validation dataset, {loss_func} loss\")\n",
    "df2 = val_df\n",
    "joint_plot(df2, f\"Validation dataset, {loss_func} loss\")"
   ]
  },
  {
   "cell_type": "code",
   "execution_count": 21,
   "metadata": {},
   "outputs": [],
   "source": [
    "df_ = val_df.sort_values(by=[\"APE\"])\n",
    "\n",
    "df_['x'] = range(len(df_))"
   ]
  },
  {
   "cell_type": "code",
   "execution_count": 22,
   "metadata": {},
   "outputs": [
    {
     "data": {
      "text/plain": [
       "<matplotlib.legend.Legend at 0x7f7142246208>"
      ]
     },
     "execution_count": 22,
     "metadata": {},
     "output_type": "execute_result"
    },
    {
     "data": {
      "image/png": "[encoded data removed]",
      "text/plain": [
       "<Figure size 432x288 with 1 Axes>"
      ]
     },
     "metadata": {
      "needs_background": "light"
     },
     "output_type": "display_data"
    }
   ],
   "source": [
    "plt.plot('x', 'APE', 'bo', data=df_)\n",
    "\n",
    "\n",
    "plt.xlabel('scheduled program')\n",
    "plt.ylabel('APE')\n",
    "plt.legend()"
   ]
  },
  {
   "cell_type": "code",
   "execution_count": null,
   "metadata": {},
   "outputs": [],
   "source": []
  },
  {
   "cell_type": "code",
   "execution_count": null,
   "metadata": {},
   "outputs": [],
   "source": [
    "l = l.load(f\"speedup_{optimizer}_batch_norm_{batch_norm}_{loss_func}_nlayers_{len(layers_sizes)}_log_{log}_batch1001-2000_ELU\")"
   ]
  },
  {
   "cell_type": "code",
   "execution_count": null,
   "metadata": {},
   "outputs": [],
   "source": []
  }
 ],
 "metadata": {
  "kernelspec": {
   "display_name": "Python 3",
   "language": "python",
   "name": "python3"
  },
  "language_info": {
   "codemirror_mode": {
    "name": "ipython",
    "version": 3
   },
   "file_extension": ".py",
   "mimetype": "text/x-python",
   "name": "python",
   "nbconvert_exporter": "python",
   "pygments_lexer": "ipython3",
   "version": "3.7.3"
  }
 },
 "nbformat": 4,
 "nbformat_minor": 4
}
