{
 "cells": [
  {
   "cell_type": "markdown",
   "metadata": {},
   "source": [
    "Training the cost model with a ranking loss"
   ]
  },
  {
   "cell_type": "code",
   "execution_count": 1,
   "metadata": {},
   "outputs": [],
   "source": [
    "from os import environ\n",
    "environ['train_device'] = 'cuda:1' # training device: 'cpu' or 'cuda:X'\n",
    "environ['store_device'] = 'cuda:1' # Data storing device:  'cpu' or 'cuda:X'\n",
    "environ['dataset_file'] = '/data/scratch/mmerouani/processed_datasets/dataset_batch4X_train_val_set.pkl' #training / validation set\n",
    "environ['test_dataset_file'] = '/data/scratch/mmerouani/processed_datasets/dataset_batch4X_test_set.pkl' #test set\n",
    "environ['benchmark_dataset_file']='/data/scratch/mmerouani/processed_datasets/dataset_Benchmark_batch10.pkl' #benchmarks set \n",
    "#a copy of these datasets can be found in /data/commit/tiramisu/cost-model_datasets/processed_datasets/\n",
    "\n",
    "%run utils.py # imports and defines some utils functions"
   ]
  },
  {
   "cell_type": "markdown",
   "metadata": {},
   "source": [
    "### Data loading"
   ]
  },
  {
   "cell_type": "code",
   "execution_count": 2,
   "metadata": {
    "scrolled": true
   },
   "outputs": [
    {
     "name": "stdout",
     "output_type": "stream",
     "text": [
      "loading batches from: /data/scratch/mmerouani/processed_datasets/dataset_batch4X_train_val_set.pkl\n"
     ]
    },
    {
     "name": "stderr",
     "output_type": "stream",
     "text": [
      "100%|██████████| 46640/46640 [27:29<00:00, 28.27it/s]   \n"
     ]
    },
    {
     "name": "stdout",
     "output_type": "stream",
     "text": [
      "GPU memory on cuda:1 nearly full, switching to CPU memory\n",
      "Number of meta batches 46640\n",
      "Data loaded\n",
      "Sizes: (9328, 37312) batches\n",
      "loading batches from: /data/scratch/mmerouani/processed_datasets/dataset_batch4X_test_set.pkl\n"
     ]
    },
    {
     "name": "stderr",
     "output_type": "stream",
     "text": [
      "100%|██████████| 8502/8502 [06:00<00:00, 23.55it/s]  \n"
     ]
    },
    {
     "name": "stdout",
     "output_type": "stream",
     "text": [
      "GPU memory on cuda:1 nearly full, switching to CPU memory\n",
      "Number of meta batches 8502\n",
      "Data loaded\n",
      "Sizes: (8502, 0) batches\n"
     ]
    }
   ],
   "source": [
    "train_val_dataset, val_bl, val_indices, train_bl, train_indices = load_data_meta_batches(dataset_file, 0.2, max_batch_size=832)\n",
    "test_dataset, test_bl, test_indices, _, _ = load_data_meta_batches(test_dataset_file, 1)"
   ]
  },
  {
   "cell_type": "markdown",
   "metadata": {},
   "source": [
    "### Model definition "
   ]
  },
  {
   "cell_type": "code",
   "execution_count": 3,
   "metadata": {},
   "outputs": [],
   "source": [
    "input_size = 2534\n",
    "\n",
    "criterion = ndcgLoss2PP_meta_batches # Using nDCG-Loss-2++\n",
    "\n",
    "model = None \n",
    "model = Model_Recursive_LSTM_v2_ranking(input_size, drops=[0.112, 0.112, 0.112, 0.112])\n",
    "model.to(train_device)\n",
    "\n",
    "optimizer = AdamW(model.parameters(),weight_decay=0.375e-2)    \n",
    "    "
   ]
  },
  {
   "cell_type": "markdown",
   "metadata": {},
   "source": [
    "### Model training"
   ]
  },
  {
   "cell_type": "code",
   "execution_count": 4,
   "metadata": {
    "scrolled": true
   },
   "outputs": [
    {
     "name": "stdout",
     "output_type": "stream",
     "text": [
      "Epoch 1/800:  train Loss: 11.1857   val Loss: 8.1448   time: 1209.35s   best loss: 8.1448\n",
      "Epoch 2/800:  train Loss: 8.4159   val Loss: 7.6152   time: 1214.85s   best loss: 7.6152\n",
      "Epoch 3/800:  train Loss: 7.9054   val Loss: 7.3919   time: 1247.45s   best loss: 7.3919\n",
      "Epoch 4/800:  train Loss: 7.6130   val Loss: 7.1376   time: 1225.39s   best loss: 7.1376\n",
      "Epoch 5/800:  train Loss: 7.4745   val Loss: 6.9653   time: 1236.47s   best loss: 6.9653\n"
     ]
    },
    {
     "ename": "KeyboardInterrupt",
     "evalue": "",
     "output_type": "error",
     "traceback": [
      "\u001b[0;31m---------------------------------------------------------------------------\u001b[0m",
      "\u001b[0;31mKeyboardInterrupt\u001b[0m: "
     ]
    }
   ],
   "source": [
    "bl_dict={'train':train_bl, 'val':val_bl}\n",
    "log_file = 'log_Recursive_LSTM_v2_ranking.txt'\n",
    "\n",
    "losses, best_model = train_model_meta_batches(model, criterion, optimizer , max_lr=0.002, dataloader=bl_dict, num_epochs=800, \n",
    "                                 logFile=log_file, log_every=1)"
   ]
  },
  {
   "cell_type": "markdown",
   "metadata": {},
   "source": [
    "### Loading a pre-trained model"
   ]
  },
  {
   "cell_type": "code",
   "execution_count": 5,
   "metadata": {},
   "outputs": [
    {
     "name": "stdout",
     "output_type": "stream",
     "text": [
      "\n"
     ]
    }
   ],
   "source": [
    "model.load_state_dict(torch.load('Recursive_LSTM_v2_ndcgLoss2PP.pkl',map_location=train_device))\n",
    "model.to(train_device)\n",
    "print()\n"
   ]
  },
  {
   "cell_type": "markdown",
   "metadata": {},
   "source": [
    "### Basic results on the test set\n"
   ]
  },
  {
   "cell_type": "code",
   "execution_count": 6,
   "metadata": {
    "scrolled": true
   },
   "outputs": [
    {
     "name": "stderr",
     "output_type": "stream",
     "text": [
      "100%|██████████| 8502/8502 [01:11<00:00, 118.40it/s]\n",
      "100%|██████████| 8502/8502 [05:28<00:00, 25.91it/s]\n"
     ]
    }
   ],
   "source": [
    "test_df, test_df_rank_scores = get_results_df_meta_batches(test_dataset, test_bl, test_indices, model)"
   ]
  },
  {
   "cell_type": "code",
   "execution_count": 8,
   "metadata": {},
   "outputs": [
    {
     "data": {
      "text/html": [
       "<div>\n",
       "<style scoped>\n",
       "    .dataframe tbody tr th:only-of-type {\n",
       "        vertical-align: middle;\n",
       "    }\n",
       "\n",
       "    .dataframe tbody tr th {\n",
       "        vertical-align: top;\n",
       "    }\n",
       "\n",
       "    .dataframe thead th {\n",
       "        text-align: right;\n",
       "    }\n",
       "</style>\n",
       "<table border=\"1\" class=\"dataframe\">\n",
       "  <thead>\n",
       "    <tr style=\"text-align: right;\">\n",
       "      <th></th>\n",
       "      <th>name</th>\n",
       "      <th>sched_name</th>\n",
       "      <th>prediction</th>\n",
       "      <th>target</th>\n",
       "      <th>real_rank</th>\n",
       "      <th>predicted_rank</th>\n",
       "    </tr>\n",
       "  </thead>\n",
       "  <tbody>\n",
       "    <tr>\n",
       "      <th>0</th>\n",
       "      <td>function436945</td>\n",
       "      <td>function436945_no_schedule</td>\n",
       "      <td>5.212368</td>\n",
       "      <td>1.000000</td>\n",
       "      <td>26.0</td>\n",
       "      <td>16.0</td>\n",
       "    </tr>\n",
       "    <tr>\n",
       "      <th>1</th>\n",
       "      <td>function436945</td>\n",
       "      <td>function436945_schedule_0000</td>\n",
       "      <td>9.486356</td>\n",
       "      <td>3.130280</td>\n",
       "      <td>7.0</td>\n",
       "      <td>8.0</td>\n",
       "    </tr>\n",
       "    <tr>\n",
       "      <th>2</th>\n",
       "      <td>function436945</td>\n",
       "      <td>function436945_schedule_0001</td>\n",
       "      <td>3.436958</td>\n",
       "      <td>1.043359</td>\n",
       "      <td>25.0</td>\n",
       "      <td>25.0</td>\n",
       "    </tr>\n",
       "    <tr>\n",
       "      <th>3</th>\n",
       "      <td>function436945</td>\n",
       "      <td>function436945_schedule_0003</td>\n",
       "      <td>5.027917</td>\n",
       "      <td>1.176245</td>\n",
       "      <td>15.0</td>\n",
       "      <td>17.0</td>\n",
       "    </tr>\n",
       "    <tr>\n",
       "      <th>4</th>\n",
       "      <td>function436945</td>\n",
       "      <td>function436945_schedule_0004</td>\n",
       "      <td>1.015811</td>\n",
       "      <td>0.969065</td>\n",
       "      <td>29.0</td>\n",
       "      <td>27.0</td>\n",
       "    </tr>\n",
       "    <tr>\n",
       "      <th>...</th>\n",
       "      <td>...</td>\n",
       "      <td>...</td>\n",
       "      <td>...</td>\n",
       "      <td>...</td>\n",
       "      <td>...</td>\n",
       "      <td>...</td>\n",
       "    </tr>\n",
       "    <tr>\n",
       "      <th>276012</th>\n",
       "      <td>function437145</td>\n",
       "      <td>function437145_schedule_0008</td>\n",
       "      <td>16.478519</td>\n",
       "      <td>1.423987</td>\n",
       "      <td>2.0</td>\n",
       "      <td>3.0</td>\n",
       "    </tr>\n",
       "    <tr>\n",
       "      <th>276013</th>\n",
       "      <td>function437145</td>\n",
       "      <td>function437145_schedule_0010</td>\n",
       "      <td>16.717077</td>\n",
       "      <td>1.420506</td>\n",
       "      <td>3.0</td>\n",
       "      <td>1.0</td>\n",
       "    </tr>\n",
       "    <tr>\n",
       "      <th>276014</th>\n",
       "      <td>function437145</td>\n",
       "      <td>function437145_schedule_0011</td>\n",
       "      <td>5.570871</td>\n",
       "      <td>0.564614</td>\n",
       "      <td>21.0</td>\n",
       "      <td>22.0</td>\n",
       "    </tr>\n",
       "    <tr>\n",
       "      <th>276015</th>\n",
       "      <td>function437145</td>\n",
       "      <td>function437145_schedule_0017</td>\n",
       "      <td>16.538778</td>\n",
       "      <td>1.592543</td>\n",
       "      <td>1.0</td>\n",
       "      <td>2.0</td>\n",
       "    </tr>\n",
       "    <tr>\n",
       "      <th>276016</th>\n",
       "      <td>function437145</td>\n",
       "      <td>function437145_schedule_0022</td>\n",
       "      <td>-5.681603</td>\n",
       "      <td>0.081586</td>\n",
       "      <td>32.0</td>\n",
       "      <td>31.0</td>\n",
       "    </tr>\n",
       "  </tbody>\n",
       "</table>\n",
       "<p>276017 rows × 6 columns</p>\n",
       "</div>"
      ],
      "text/plain": [
       "                  name                    sched_name  prediction    target  \\\n",
       "0       function436945    function436945_no_schedule    5.212368  1.000000   \n",
       "1       function436945  function436945_schedule_0000    9.486356  3.130280   \n",
       "2       function436945  function436945_schedule_0001    3.436958  1.043359   \n",
       "3       function436945  function436945_schedule_0003    5.027917  1.176245   \n",
       "4       function436945  function436945_schedule_0004    1.015811  0.969065   \n",
       "...                ...                           ...         ...       ...   \n",
       "276012  function437145  function437145_schedule_0008   16.478519  1.423987   \n",
       "276013  function437145  function437145_schedule_0010   16.717077  1.420506   \n",
       "276014  function437145  function437145_schedule_0011    5.570871  0.564614   \n",
       "276015  function437145  function437145_schedule_0017   16.538778  1.592543   \n",
       "276016  function437145  function437145_schedule_0022   -5.681603  0.081586   \n",
       "\n",
       "        real_rank  predicted_rank  \n",
       "0            26.0            16.0  \n",
       "1             7.0             8.0  \n",
       "2            25.0            25.0  \n",
       "3            15.0            17.0  \n",
       "4            29.0            27.0  \n",
       "...           ...             ...  \n",
       "276012        2.0             3.0  \n",
       "276013        3.0             1.0  \n",
       "276014       21.0            22.0  \n",
       "276015        1.0             2.0  \n",
       "276016       32.0            31.0  \n",
       "\n",
       "[276017 rows x 6 columns]"
      ]
     },
     "execution_count": 8,
     "metadata": {},
     "output_type": "execute_result"
    }
   ],
   "source": [
    "test_df"
   ]
  },
  {
   "cell_type": "code",
   "execution_count": 9,
   "metadata": {},
   "outputs": [
    {
     "data": {
      "text/html": [
       "<div>\n",
       "<style scoped>\n",
       "    .dataframe tbody tr th:only-of-type {\n",
       "        vertical-align: middle;\n",
       "    }\n",
       "\n",
       "    .dataframe tbody tr th {\n",
       "        vertical-align: top;\n",
       "    }\n",
       "\n",
       "    .dataframe thead th {\n",
       "        text-align: right;\n",
       "    }\n",
       "</style>\n",
       "<table border=\"1\" class=\"dataframe\">\n",
       "  <thead>\n",
       "    <tr style=\"text-align: right;\">\n",
       "      <th></th>\n",
       "      <th>Spearman_r</th>\n",
       "      <th>nDCG</th>\n",
       "      <th>nDCG_1</th>\n",
       "    </tr>\n",
       "  </thead>\n",
       "  <tbody>\n",
       "    <tr>\n",
       "      <th>count</th>\n",
       "      <td>8502.000000</td>\n",
       "      <td>8502.000000</td>\n",
       "      <td>8502.000000</td>\n",
       "    </tr>\n",
       "    <tr>\n",
       "      <th>mean</th>\n",
       "      <td>0.905679</td>\n",
       "      <td>0.985793</td>\n",
       "      <td>0.948152</td>\n",
       "    </tr>\n",
       "    <tr>\n",
       "      <th>std</th>\n",
       "      <td>0.097209</td>\n",
       "      <td>0.021263</td>\n",
       "      <td>0.105755</td>\n",
       "    </tr>\n",
       "    <tr>\n",
       "      <th>min</th>\n",
       "      <td>-0.368012</td>\n",
       "      <td>0.604358</td>\n",
       "      <td>0.058371</td>\n",
       "    </tr>\n",
       "    <tr>\n",
       "      <th>25%</th>\n",
       "      <td>0.882136</td>\n",
       "      <td>0.984054</td>\n",
       "      <td>0.946073</td>\n",
       "    </tr>\n",
       "    <tr>\n",
       "      <th>50%</th>\n",
       "      <td>0.936899</td>\n",
       "      <td>0.992794</td>\n",
       "      <td>0.999684</td>\n",
       "    </tr>\n",
       "    <tr>\n",
       "      <th>75%</th>\n",
       "      <td>0.966228</td>\n",
       "      <td>0.996789</td>\n",
       "      <td>1.000000</td>\n",
       "    </tr>\n",
       "    <tr>\n",
       "      <th>max</th>\n",
       "      <td>0.995968</td>\n",
       "      <td>0.999972</td>\n",
       "      <td>1.000000</td>\n",
       "    </tr>\n",
       "  </tbody>\n",
       "</table>\n",
       "</div>"
      ],
      "text/plain": [
       "        Spearman_r         nDCG       nDCG_1\n",
       "count  8502.000000  8502.000000  8502.000000\n",
       "mean      0.905679     0.985793     0.948152\n",
       "std       0.097209     0.021263     0.105755\n",
       "min      -0.368012     0.604358     0.058371\n",
       "25%       0.882136     0.984054     0.946073\n",
       "50%       0.936899     0.992794     0.999684\n",
       "75%       0.966228     0.996789     1.000000\n",
       "max       0.995968     0.999972     1.000000"
      ]
     },
     "execution_count": 9,
     "metadata": {},
     "output_type": "execute_result"
    }
   ],
   "source": [
    "test_df_rank_scores.describe()"
   ]
  },
  {
   "cell_type": "code",
   "execution_count": 12,
   "metadata": {},
   "outputs": [
    {
     "data": {
      "image/png": "[encoded data removed]"
     },
     "metadata": {},
     "output_type": "display_data"
    }
   ],
   "source": [
    "cf_matrix = confusion_matrix(test_df['real_rank'].astype('int32'), test_df['predicted_rank'].astype('int32'))\n",
    "\n",
    "fig = px.imshow(cf_matrix,\n",
    "                labels=dict(x=\"Real rank\", y=\"Predicted rank\", color=\"Number of Schedules (out of 276k)\" ),\n",
    "                x=[str(i) for i in range(1,34)],\n",
    "                y=[str(i) for i in range(1,34)]\n",
    "               )\n",
    "fig.update_xaxes(side=\"top\")\n",
    "fig.show('png') #use fig.show() for interactive mode"
   ]
  },
  {
   "cell_type": "markdown",
   "metadata": {},
   "source": [
    "### Basic results on the benchmark set"
   ]
  },
  {
   "cell_type": "code",
   "execution_count": 14,
   "metadata": {},
   "outputs": [
    {
     "name": "stdout",
     "output_type": "stream",
     "text": [
      "loading batches from: /data/scratch/mmerouani/processed_datasets/dataset_Benchmark_batch10.pkl\n"
     ]
    },
    {
     "name": "stderr",
     "output_type": "stream",
     "text": [
      "100%|██████████| 3490/3490 [06:20<00:00,  9.18it/s] \n"
     ]
    },
    {
     "name": "stdout",
     "output_type": "stream",
     "text": [
      "GPU memory on cuda:1 nearly full, switching to CPU memory\n",
      "Number of meta batches 3490\n",
      "Data loaded\n",
      "Sizes: (3490, 0) batches\n"
     ]
    }
   ],
   "source": [
    "benchmark_dataset, benchmark_bl, benchmark_indices, _, _ = load_data_meta_batches(benchmark_dataset_file, 1)"
   ]
  },
  {
   "cell_type": "code",
   "execution_count": 15,
   "metadata": {},
   "outputs": [
    {
     "name": "stderr",
     "output_type": "stream",
     "text": [
      "100%|██████████| 3490/3490 [00:14<00:00, 247.60it/s]\n",
      "100%|██████████| 3435/3435 [03:07<00:00, 18.33it/s]\n"
     ]
    }
   ],
   "source": [
    "benchmark_df, benchmark_df_rank_scores = get_results_df_meta_batches(benchmark_dataset, benchmark_bl, benchmark_indices, model)"
   ]
  },
  {
   "cell_type": "code",
   "execution_count": 16,
   "metadata": {},
   "outputs": [
    {
     "data": {
      "text/html": [
       "<div>\n",
       "<style scoped>\n",
       "    .dataframe tbody tr th:only-of-type {\n",
       "        vertical-align: middle;\n",
       "    }\n",
       "\n",
       "    .dataframe tbody tr th {\n",
       "        vertical-align: top;\n",
       "    }\n",
       "\n",
       "    .dataframe thead th {\n",
       "        text-align: right;\n",
       "    }\n",
       "</style>\n",
       "<table border=\"1\" class=\"dataframe\">\n",
       "  <thead>\n",
       "    <tr style=\"text-align: right;\">\n",
       "      <th></th>\n",
       "      <th>Spearman_r</th>\n",
       "      <th>nDCG</th>\n",
       "      <th>nDCG_1</th>\n",
       "    </tr>\n",
       "  </thead>\n",
       "  <tbody>\n",
       "    <tr>\n",
       "      <th>count</th>\n",
       "      <td>3435.000000</td>\n",
       "      <td>3435.000000</td>\n",
       "      <td>3435.000000</td>\n",
       "    </tr>\n",
       "    <tr>\n",
       "      <th>mean</th>\n",
       "      <td>0.678521</td>\n",
       "      <td>0.935988</td>\n",
       "      <td>0.776508</td>\n",
       "    </tr>\n",
       "    <tr>\n",
       "      <th>std</th>\n",
       "      <td>0.413321</td>\n",
       "      <td>0.072894</td>\n",
       "      <td>0.247141</td>\n",
       "    </tr>\n",
       "    <tr>\n",
       "      <th>min</th>\n",
       "      <td>-0.976190</td>\n",
       "      <td>0.531952</td>\n",
       "      <td>0.012579</td>\n",
       "    </tr>\n",
       "    <tr>\n",
       "      <th>25%</th>\n",
       "      <td>0.666667</td>\n",
       "      <td>0.911556</td>\n",
       "      <td>0.644395</td>\n",
       "    </tr>\n",
       "    <tr>\n",
       "      <th>50%</th>\n",
       "      <td>0.810826</td>\n",
       "      <td>0.967105</td>\n",
       "      <td>0.863074</td>\n",
       "    </tr>\n",
       "    <tr>\n",
       "      <th>75%</th>\n",
       "      <td>0.910424</td>\n",
       "      <td>0.984400</td>\n",
       "      <td>0.990476</td>\n",
       "    </tr>\n",
       "    <tr>\n",
       "      <th>max</th>\n",
       "      <td>1.000000</td>\n",
       "      <td>1.000000</td>\n",
       "      <td>1.000000</td>\n",
       "    </tr>\n",
       "  </tbody>\n",
       "</table>\n",
       "</div>"
      ],
      "text/plain": [
       "        Spearman_r         nDCG       nDCG_1\n",
       "count  3435.000000  3435.000000  3435.000000\n",
       "mean      0.678521     0.935988     0.776508\n",
       "std       0.413321     0.072894     0.247141\n",
       "min      -0.976190     0.531952     0.012579\n",
       "25%       0.666667     0.911556     0.644395\n",
       "50%       0.810826     0.967105     0.863074\n",
       "75%       0.910424     0.984400     0.990476\n",
       "max       1.000000     1.000000     1.000000"
      ]
     },
     "execution_count": 16,
     "metadata": {},
     "output_type": "execute_result"
    }
   ],
   "source": [
    "benchmark_df_rank_scores.describe()"
   ]
  },
  {
   "cell_type": "code",
   "execution_count": 11,
   "metadata": {},
   "outputs": [],
   "source": [
    "pass"
   ]
  },
  {
   "cell_type": "code",
   "execution_count": null,
   "metadata": {},
   "outputs": [],
   "source": []
  }
 ],
 "metadata": {
  "kernelspec": {
   "display_name": "Python 3",
   "language": "python",
   "name": "python3"
  },
  "language_info": {
   "codemirror_mode": {
    "name": "ipython",
    "version": 3
   },
   "file_extension": ".py",
   "mimetype": "text/x-python",
   "name": "python",
   "nbconvert_exporter": "python",
   "pygments_lexer": "ipython3",
   "version": "3.7.6"
  }
 },
 "nbformat": 4,
 "nbformat_minor": 4
}
