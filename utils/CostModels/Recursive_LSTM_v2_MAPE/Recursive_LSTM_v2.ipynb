{
 "cells": [
  {
   "cell_type": "code",
   "execution_count": 1,
   "metadata": {},
   "outputs": [],
   "source": [
    "from os import environ\n",
    "environ['train_device'] = 'cuda:2' # training device: 'cpu' or 'cuda:X'\n",
    "environ['store_device'] = 'cuda:2' # Data storing device:  'cpu' or 'cuda:X'\n",
    "environ['dataset_file'] = '/data/scratch/mmerouani/processed_datasets/dataset_batch4X_train_val_set.pkl' #training / validation set\n",
    "environ['test_dataset_file'] = '/data/scratch/mmerouani/processed_datasets/dataset_batch4X_test_set.pkl' #test set\n",
    "environ['benchmark_dataset_file']='/data/scratch/mmerouani/processed_datasets/dataset_Benchmark_batch10.pkl' #benchmarks set \n",
    "#a copy of these datasets can be found in /data/commit/tiramisu/cost-model_datasets/processed_datasets/\n",
    "\n",
    "\n",
    "%run utils.py # imports and defines some utils functions"
   ]
  },
  {
   "cell_type": "markdown",
   "metadata": {},
   "source": [
    "### Data loading"
   ]
  },
  {
   "cell_type": "code",
   "execution_count": 2,
   "metadata": {
    "scrolled": true
   },
   "outputs": [
    {
     "name": "stdout",
     "output_type": "stream",
     "text": [
      "loading batches from: /data/scratch/mmerouani/processed_datasets/dataset_batch4X_train_val_set.pkl\n"
     ]
    },
    {
     "name": "stderr",
     "output_type": "stream",
     "text": [
      "100%|██████████| 46640/46640 [26:40<00:00, 29.13it/s]\n"
     ]
    },
    {
     "name": "stdout",
     "output_type": "stream",
     "text": [
      "GPU memory on cuda:2 nearly full, switching to CPU memory\n",
      "Number of batches 1930\n",
      "Data loaded\n",
      "Sizes: (386, 1544) batches\n",
      "loading batches from: /data/scratch/mmerouani/processed_datasets/dataset_batch4X_test_set.pkl\n"
     ]
    },
    {
     "name": "stderr",
     "output_type": "stream",
     "text": [
      "100%|██████████| 8502/8502 [05:09<00:00, 27.44it/s]\n"
     ]
    },
    {
     "name": "stdout",
     "output_type": "stream",
     "text": [
      "GPU memory on cuda:2 nearly full, switching to CPU memory\n",
      "Number of batches 253\n",
      "Data loaded\n",
      "Sizes: (253, 0) batches\n"
     ]
    }
   ],
   "source": [
    "train_val_dataset, val_bl, val_indices, train_bl, train_indices = load_data(dataset_file, 0.2,max_batch_size=832)\n",
    "test_dataset, test_bl, test_indices, _, _ = load_data(test_dataset_file, 1)"
   ]
  },
  {
   "cell_type": "markdown",
   "metadata": {},
   "source": [
    "### Model definition "
   ]
  },
  {
   "cell_type": "code",
   "execution_count": 3,
   "metadata": {},
   "outputs": [],
   "source": [
    "input_size = 2534\n",
    "\n",
    "model = None \n",
    "\n",
    "model = Model_Recursive_LSTM_v2(input_size,drops=[0.112, 0.112, 0.112, 0.112])\n",
    "model.to(train_device)\n",
    "\n",
    "criterion = mape_criterion\n",
    "\n",
    "optimizer = AdamW(model.parameters(),weight_decay=0.375e-2)    \n",
    "    "
   ]
  },
  {
   "cell_type": "markdown",
   "metadata": {},
   "source": [
    "### Model training"
   ]
  },
  {
   "cell_type": "code",
   "execution_count": 5,
   "metadata": {
    "scrolled": true
   },
   "outputs": [
    {
     "name": "stdout",
     "output_type": "stream",
     "text": [
      "Epoch 1/800:  train Loss: 85.3366   val Loss: 81.7021   time: 30.68s   best: 81.7021\n",
      "Epoch 2/800:  train Loss: 80.2573   val Loss: 75.8455   time: 23.93s   best: 75.8455\n",
      "Epoch 3/800:  train Loss: 76.7990   val Loss: 72.1598   time: 24.36s   best: 72.1598\n",
      "Epoch 4/800:  train Loss: 74.6296   val Loss: 70.9524   time: 23.36s   best: 70.9524\n",
      "Epoch 5/800:  train Loss: 73.5082   val Loss: 70.6836   time: 23.76s   best: 70.6836\n",
      "Epoch 6/800:  train Loss: 72.5218   val Loss: 70.7238   time: 23.79s   best: 70.6836\n",
      "Epoch 7/800:  train Loss: 71.8005   val Loss: 69.4570   time: 25.18s   best: 69.4570\n",
      "Epoch 8/800:  train Loss: 70.9460   val Loss: 68.2762   time: 26.06s   best: 68.2762\n",
      "Epoch 9/800:  train Loss: 69.3416   val Loss: 64.1731   time: 23.74s   best: 64.1731\n",
      "Epoch 10/800:  train Loss: 67.0098   val Loss: 61.7273   time: 23.98s   best: 61.7273\n",
      "...\n",
      "...\n",
      "...\n",
      "Epoch 109/800:  train Loss: 26.3896   val Loss: 24.3845   time: 25.84s   best: 23.6946\n",
      "Epoch 110/800:  train Loss: 26.3453   val Loss: 23.3988   time: 27.62s   best: 23.3988\n",
      "Epoch 111/800:  train Loss: 26.2809   val Loss: 23.4053   time: 25.38s   best: 23.3988\n",
      "Epoch 112/800:  train Loss: 26.2419   val Loss: 23.5531   time: 24.49s   best: 23.3988\n",
      "Epoch 113/800:  train Loss: 26.0912   val Loss: 23.3612   time: 23.98s   best: 23.3612\n",
      "Epoch 114/800:  train Loss: 26.0706   val Loss: 23.2741   time: 24.11s   best: 23.2741\n",
      "Epoch 115/800:  train Loss: 26.0206   val Loss: 22.7565   time: 25.14s   best: 22.7565\n",
      "Epoch 116/800:  train Loss: 25.9786   val Loss: 23.5198   time: 23.74s   best: 22.7565\n",
      "Epoch 117/800:  train Loss: 25.8872   val Loss: 23.0883   time: 26.90s   best: 22.7565\n"
     ]
    },
    {
     "ename": "KeyboardInterrupt",
     "evalue": "",
     "output_type": "error",
     "traceback": [
      "\u001b[0;31m---------------------------------------------------------------------------\u001b[0m",
      "\u001b[0;31mKeyboardInterrupt\u001b[0m: "
     ]
    }
   ],
   "source": [
    "bl_dict={'train':train_bl, 'val':val_bl}\n",
    "log_file = 'log_Recursive_LSTM_v2.txt'\n",
    "\n",
    "losses, best_model = train_model(model, criterion, optimizer , max_lr=0.001, dataloader=bl_dict,\n",
    "                                 num_epochs=800, logFile=log_file, log_every=1)"
   ]
  },
  {
   "cell_type": "markdown",
   "metadata": {},
   "source": [
    "### Loading a pre-trained model"
   ]
  },
  {
   "cell_type": "code",
   "execution_count": 6,
   "metadata": {},
   "outputs": [
    {
     "name": "stdout",
     "output_type": "stream",
     "text": [
      "\n"
     ]
    }
   ],
   "source": [
    "model.load_state_dict(torch.load('Recursive_LSTM_v2_16.32.pkl',map_location=train_device))\n",
    "model.to(train_device)\n",
    "print()"
   ]
  },
  {
   "cell_type": "markdown",
   "metadata": {},
   "source": [
    "### Basic results on the test and validation set"
   ]
  },
  {
   "cell_type": "code",
   "execution_count": 8,
   "metadata": {
    "scrolled": true
   },
   "outputs": [
    {
     "name": "stderr",
     "output_type": "stream",
     "text": [
      "100%|██████████| 386/386 [00:02<00:00, 159.41it/s]\n",
      "100%|██████████| 253/253 [00:06<00:00, 36.35it/s]\n"
     ]
    }
   ],
   "source": [
    "val_df = get_results_df(train_val_dataset, val_bl, val_indices, model)\n",
    "test_df = get_results_df(test_dataset, test_bl, test_indices, model)\n"
   ]
  },
  {
   "cell_type": "code",
   "execution_count": 8,
   "metadata": {},
   "outputs": [
    {
     "data": {
      "text/html": [
       "<div>\n",
       "<style scoped>\n",
       "    .dataframe tbody tr th:only-of-type {\n",
       "        vertical-align: middle;\n",
       "    }\n",
       "\n",
       "    .dataframe tbody tr th {\n",
       "        vertical-align: top;\n",
       "    }\n",
       "\n",
       "    .dataframe thead th {\n",
       "        text-align: right;\n",
       "    }\n",
       "</style>\n",
       "<table border=\"1\" class=\"dataframe\">\n",
       "  <thead>\n",
       "    <tr style=\"text-align: right;\">\n",
       "      <th></th>\n",
       "      <th>exec_time</th>\n",
       "      <th>prediction</th>\n",
       "      <th>target</th>\n",
       "      <th>abs_diff</th>\n",
       "      <th>APE</th>\n",
       "    </tr>\n",
       "  </thead>\n",
       "  <tbody>\n",
       "    <tr>\n",
       "      <th>count</th>\n",
       "      <td>276017.000000</td>\n",
       "      <td>276017.000000</td>\n",
       "      <td>276017.000000</td>\n",
       "      <td>276017.000000</td>\n",
       "      <td>276017.000000</td>\n",
       "    </tr>\n",
       "    <tr>\n",
       "      <th>mean</th>\n",
       "      <td>577.834388</td>\n",
       "      <td>1.238106</td>\n",
       "      <td>1.344900</td>\n",
       "      <td>0.249253</td>\n",
       "      <td>16.320051</td>\n",
       "    </tr>\n",
       "    <tr>\n",
       "      <th>std</th>\n",
       "      <td>1349.081196</td>\n",
       "      <td>2.302294</td>\n",
       "      <td>2.850899</td>\n",
       "      <td>1.143897</td>\n",
       "      <td>32.189922</td>\n",
       "    </tr>\n",
       "    <tr>\n",
       "      <th>min</th>\n",
       "      <td>0.008000</td>\n",
       "      <td>0.001574</td>\n",
       "      <td>0.001865</td>\n",
       "      <td>0.000000</td>\n",
       "      <td>0.000000</td>\n",
       "    </tr>\n",
       "    <tr>\n",
       "      <th>25%</th>\n",
       "      <td>31.966000</td>\n",
       "      <td>0.349922</td>\n",
       "      <td>0.370004</td>\n",
       "      <td>0.017328</td>\n",
       "      <td>3.809805</td>\n",
       "    </tr>\n",
       "    <tr>\n",
       "      <th>50%</th>\n",
       "      <td>142.772500</td>\n",
       "      <td>0.821265</td>\n",
       "      <td>0.834172</td>\n",
       "      <td>0.059552</td>\n",
       "      <td>10.242489</td>\n",
       "    </tr>\n",
       "    <tr>\n",
       "      <th>75%</th>\n",
       "      <td>500.436500</td>\n",
       "      <td>1.011100</td>\n",
       "      <td>1.102495</td>\n",
       "      <td>0.165281</td>\n",
       "      <td>20.954794</td>\n",
       "    </tr>\n",
       "    <tr>\n",
       "      <th>max</th>\n",
       "      <td>30174.302000</td>\n",
       "      <td>26.906061</td>\n",
       "      <td>99.264748</td>\n",
       "      <td>72.367393</td>\n",
       "      <td>2669.392578</td>\n",
       "    </tr>\n",
       "  </tbody>\n",
       "</table>\n",
       "</div>"
      ],
      "text/plain": [
       "           exec_time     prediction         target       abs_diff  \\\n",
       "count  276017.000000  276017.000000  276017.000000  276017.000000   \n",
       "mean      577.834388       1.238106       1.344900       0.249253   \n",
       "std      1349.081196       2.302294       2.850899       1.143897   \n",
       "min         0.008000       0.001574       0.001865       0.000000   \n",
       "25%        31.966000       0.349922       0.370004       0.017328   \n",
       "50%       142.772500       0.821265       0.834172       0.059552   \n",
       "75%       500.436500       1.011100       1.102495       0.165281   \n",
       "max     30174.302000      26.906061      99.264748      72.367393   \n",
       "\n",
       "                 APE  \n",
       "count  276017.000000  \n",
       "mean       16.320051  \n",
       "std        32.189922  \n",
       "min         0.000000  \n",
       "25%         3.809805  \n",
       "50%        10.242489  \n",
       "75%        20.954794  \n",
       "max      2669.392578  "
      ]
     },
     "execution_count": 8,
     "metadata": {},
     "output_type": "execute_result"
    }
   ],
   "source": [
    "test_df.describe()"
   ]
  },
  {
   "cell_type": "code",
   "execution_count": 9,
   "metadata": {},
   "outputs": [
    {
     "data": {
      "text/html": [
       "<div>\n",
       "<style scoped>\n",
       "    .dataframe tbody tr th:only-of-type {\n",
       "        vertical-align: middle;\n",
       "    }\n",
       "\n",
       "    .dataframe tbody tr th {\n",
       "        vertical-align: top;\n",
       "    }\n",
       "\n",
       "    .dataframe thead th {\n",
       "        text-align: right;\n",
       "    }\n",
       "</style>\n",
       "<table border=\"1\" class=\"dataframe\">\n",
       "  <thead>\n",
       "    <tr style=\"text-align: right;\">\n",
       "      <th></th>\n",
       "      <th>exec_time</th>\n",
       "      <th>prediction</th>\n",
       "      <th>target</th>\n",
       "      <th>abs_diff</th>\n",
       "      <th>APE</th>\n",
       "    </tr>\n",
       "  </thead>\n",
       "  <tbody>\n",
       "    <tr>\n",
       "      <th>count</th>\n",
       "      <td>299387.000000</td>\n",
       "      <td>299387.000000</td>\n",
       "      <td>299387.000000</td>\n",
       "      <td>299387.000000</td>\n",
       "      <td>299387.000000</td>\n",
       "    </tr>\n",
       "    <tr>\n",
       "      <th>mean</th>\n",
       "      <td>571.996887</td>\n",
       "      <td>1.234157</td>\n",
       "      <td>1.345729</td>\n",
       "      <td>0.223093</td>\n",
       "      <td>12.983403</td>\n",
       "    </tr>\n",
       "    <tr>\n",
       "      <th>std</th>\n",
       "      <td>1315.995884</td>\n",
       "      <td>2.357585</td>\n",
       "      <td>3.006141</td>\n",
       "      <td>1.238141</td>\n",
       "      <td>14.970219</td>\n",
       "    </tr>\n",
       "    <tr>\n",
       "      <th>min</th>\n",
       "      <td>0.013000</td>\n",
       "      <td>0.001042</td>\n",
       "      <td>0.001400</td>\n",
       "      <td>0.000000</td>\n",
       "      <td>0.000000</td>\n",
       "    </tr>\n",
       "    <tr>\n",
       "      <th>25%</th>\n",
       "      <td>32.825500</td>\n",
       "      <td>0.346737</td>\n",
       "      <td>0.369616</td>\n",
       "      <td>0.013997</td>\n",
       "      <td>3.175231</td>\n",
       "    </tr>\n",
       "    <tr>\n",
       "      <th>50%</th>\n",
       "      <td>147.170000</td>\n",
       "      <td>0.810723</td>\n",
       "      <td>0.824883</td>\n",
       "      <td>0.048328</td>\n",
       "      <td>8.397388</td>\n",
       "    </tr>\n",
       "    <tr>\n",
       "      <th>75%</th>\n",
       "      <td>494.729500</td>\n",
       "      <td>1.004372</td>\n",
       "      <td>1.081886</td>\n",
       "      <td>0.138263</td>\n",
       "      <td>17.388187</td>\n",
       "    </tr>\n",
       "    <tr>\n",
       "      <th>max</th>\n",
       "      <td>27927.257500</td>\n",
       "      <td>26.906689</td>\n",
       "      <td>108.446342</td>\n",
       "      <td>81.591415</td>\n",
       "      <td>335.025208</td>\n",
       "    </tr>\n",
       "  </tbody>\n",
       "</table>\n",
       "</div>"
      ],
      "text/plain": [
       "           exec_time     prediction         target       abs_diff  \\\n",
       "count  299387.000000  299387.000000  299387.000000  299387.000000   \n",
       "mean      571.996887       1.234157       1.345729       0.223093   \n",
       "std      1315.995884       2.357585       3.006141       1.238141   \n",
       "min         0.013000       0.001042       0.001400       0.000000   \n",
       "25%        32.825500       0.346737       0.369616       0.013997   \n",
       "50%       147.170000       0.810723       0.824883       0.048328   \n",
       "75%       494.729500       1.004372       1.081886       0.138263   \n",
       "max     27927.257500      26.906689     108.446342      81.591415   \n",
       "\n",
       "                 APE  \n",
       "count  299387.000000  \n",
       "mean       12.983403  \n",
       "std        14.970219  \n",
       "min         0.000000  \n",
       "25%         3.175231  \n",
       "50%         8.397388  \n",
       "75%        17.388187  \n",
       "max       335.025208  "
      ]
     },
     "execution_count": 9,
     "metadata": {},
     "output_type": "execute_result"
    }
   ],
   "source": [
    "val_df.describe()"
   ]
  },
  {
   "cell_type": "code",
   "execution_count": 10,
   "metadata": {},
   "outputs": [
    {
     "data": {
      "text/html": [
       "<div>\n",
       "<style scoped>\n",
       "    .dataframe tbody tr th:only-of-type {\n",
       "        vertical-align: middle;\n",
       "    }\n",
       "\n",
       "    .dataframe tbody tr th {\n",
       "        vertical-align: top;\n",
       "    }\n",
       "\n",
       "    .dataframe thead th {\n",
       "        text-align: right;\n",
       "    }\n",
       "</style>\n",
       "<table border=\"1\" class=\"dataframe\">\n",
       "  <thead>\n",
       "    <tr style=\"text-align: right;\">\n",
       "      <th></th>\n",
       "      <th>exec_time</th>\n",
       "      <th>prediction</th>\n",
       "      <th>target</th>\n",
       "      <th>abs_diff</th>\n",
       "      <th>APE</th>\n",
       "    </tr>\n",
       "  </thead>\n",
       "  <tbody>\n",
       "    <tr>\n",
       "      <th>count</th>\n",
       "      <td>236110.000000</td>\n",
       "      <td>236110.000000</td>\n",
       "      <td>236110.000000</td>\n",
       "      <td>236110.000000</td>\n",
       "      <td>236110.000000</td>\n",
       "    </tr>\n",
       "    <tr>\n",
       "      <th>mean</th>\n",
       "      <td>674.690589</td>\n",
       "      <td>1.209179</td>\n",
       "      <td>1.313958</td>\n",
       "      <td>0.241153</td>\n",
       "      <td>14.795569</td>\n",
       "    </tr>\n",
       "    <tr>\n",
       "      <th>std</th>\n",
       "      <td>1436.207752</td>\n",
       "      <td>2.371653</td>\n",
       "      <td>2.962423</td>\n",
       "      <td>1.207506</td>\n",
       "      <td>18.628445</td>\n",
       "    </tr>\n",
       "    <tr>\n",
       "      <th>min</th>\n",
       "      <td>0.159000</td>\n",
       "      <td>0.002081</td>\n",
       "      <td>0.004130</td>\n",
       "      <td>0.000000</td>\n",
       "      <td>0.000000</td>\n",
       "    </tr>\n",
       "    <tr>\n",
       "      <th>25%</th>\n",
       "      <td>58.973000</td>\n",
       "      <td>0.352329</td>\n",
       "      <td>0.371583</td>\n",
       "      <td>0.015834</td>\n",
       "      <td>3.527706</td>\n",
       "    </tr>\n",
       "    <tr>\n",
       "      <th>50%</th>\n",
       "      <td>198.297000</td>\n",
       "      <td>0.827683</td>\n",
       "      <td>0.834337</td>\n",
       "      <td>0.054322</td>\n",
       "      <td>9.576809</td>\n",
       "    </tr>\n",
       "    <tr>\n",
       "      <th>75%</th>\n",
       "      <td>626.946625</td>\n",
       "      <td>1.001174</td>\n",
       "      <td>1.061528</td>\n",
       "      <td>0.148256</td>\n",
       "      <td>19.524477</td>\n",
       "    </tr>\n",
       "    <tr>\n",
       "      <th>max</th>\n",
       "      <td>30174.302000</td>\n",
       "      <td>26.906061</td>\n",
       "      <td>99.264748</td>\n",
       "      <td>72.367393</td>\n",
       "      <td>660.251038</td>\n",
       "    </tr>\n",
       "  </tbody>\n",
       "</table>\n",
       "</div>"
      ],
      "text/plain": [
       "           exec_time     prediction         target       abs_diff  \\\n",
       "count  236110.000000  236110.000000  236110.000000  236110.000000   \n",
       "mean      674.690589       1.209179       1.313958       0.241153   \n",
       "std      1436.207752       2.371653       2.962423       1.207506   \n",
       "min         0.159000       0.002081       0.004130       0.000000   \n",
       "25%        58.973000       0.352329       0.371583       0.015834   \n",
       "50%       198.297000       0.827683       0.834337       0.054322   \n",
       "75%       626.946625       1.001174       1.061528       0.148256   \n",
       "max     30174.302000      26.906061      99.264748      72.367393   \n",
       "\n",
       "                 APE  \n",
       "count  236110.000000  \n",
       "mean       14.795569  \n",
       "std        18.628445  \n",
       "min         0.000000  \n",
       "25%         3.527706  \n",
       "50%         9.576809  \n",
       "75%        19.524477  \n",
       "max       660.251038  "
      ]
     },
     "execution_count": 10,
     "metadata": {},
     "output_type": "execute_result"
    }
   ],
   "source": [
    "test_df[(test_df['exec_time']*test_df['target'])>5].describe()"
   ]
  },
  {
   "cell_type": "code",
   "execution_count": 11,
   "metadata": {},
   "outputs": [
    {
     "data": {
      "image/png": "[encoded data removed]"
     },
     "metadata": {},
     "output_type": "display_data"
    }
   ],
   "source": [
    "sample_size = 3200\n",
    "\n",
    "fig = go.Figure()\n",
    "\n",
    "fig.add_trace(go.Scatter(x=list(range(sample_size)), y=test_df.iloc[:sample_size].sort_values(by=['target'])['prediction'],\n",
    "                    mode='markers', name='Predicted Speedup',marker=dict( size=2)))\n",
    "fig.add_trace(go.Scatter(x=list(range(sample_size)), y=test_df.iloc[:sample_size].sort_values(by=['target'])['target'],\n",
    "                    mode='lines', name='Measured Speedup' ))\n",
    "\n",
    "fig.update_yaxes(type=\"log\")\n",
    "fig.show('png') # use fig.show() for interactive mode"
   ]
  },
  {
   "cell_type": "markdown",
   "metadata": {},
   "source": [
    "### Basic results on the benchmark set"
   ]
  },
  {
   "cell_type": "code",
   "execution_count": 11,
   "metadata": {},
   "outputs": [
    {
     "name": "stdout",
     "output_type": "stream",
     "text": [
      "loading batches from: /data/scratch/mmerouani/processed_datasets/dataset_Benchmark_batch10.pkl\n"
     ]
    },
    {
     "name": "stderr",
     "output_type": "stream",
     "text": [
      "100%|██████████| 3490/3490 [06:51<00:00,  8.49it/s] \n"
     ]
    },
    {
     "name": "stdout",
     "output_type": "stream",
     "text": [
      "GPU memory on cuda:1 nearly full, switching to CPU memory\n",
      "Number of batches 209\n",
      "Data loaded\n",
      "Sizes: (209, 0) batches\n"
     ]
    }
   ],
   "source": [
    "benchmark_dataset, benchmark_bl, benchmark_indices, _, _ = load_data(benchmark_dataset_file, 1)"
   ]
  },
  {
   "cell_type": "code",
   "execution_count": 12,
   "metadata": {},
   "outputs": [
    {
     "name": "stderr",
     "output_type": "stream",
     "text": [
      "100%|██████████| 209/209 [00:04<00:00, 46.89it/s]\n"
     ]
    }
   ],
   "source": [
    "benchmark_df = get_results_df(benchmark_dataset, benchmark_bl, benchmark_indices, model)"
   ]
  },
  {
   "cell_type": "code",
   "execution_count": 13,
   "metadata": {},
   "outputs": [
    {
     "data": {
      "text/html": [
       "<div>\n",
       "<style scoped>\n",
       "    .dataframe tbody tr th:only-of-type {\n",
       "        vertical-align: middle;\n",
       "    }\n",
       "\n",
       "    .dataframe tbody tr th {\n",
       "        vertical-align: top;\n",
       "    }\n",
       "\n",
       "    .dataframe thead th {\n",
       "        text-align: right;\n",
       "    }\n",
       "</style>\n",
       "<table border=\"1\" class=\"dataframe\">\n",
       "  <thead>\n",
       "    <tr style=\"text-align: right;\">\n",
       "      <th></th>\n",
       "      <th>exec_time</th>\n",
       "      <th>prediction</th>\n",
       "      <th>target</th>\n",
       "      <th>abs_diff</th>\n",
       "      <th>APE</th>\n",
       "    </tr>\n",
       "  </thead>\n",
       "  <tbody>\n",
       "    <tr>\n",
       "      <th>count</th>\n",
       "      <td>421970.000000</td>\n",
       "      <td>421970.000000</td>\n",
       "      <td>421970.000000</td>\n",
       "      <td>421970.000000</td>\n",
       "      <td>421970.000000</td>\n",
       "    </tr>\n",
       "    <tr>\n",
       "      <th>mean</th>\n",
       "      <td>278.649851</td>\n",
       "      <td>0.783475</td>\n",
       "      <td>0.880940</td>\n",
       "      <td>0.324966</td>\n",
       "      <td>37.383327</td>\n",
       "    </tr>\n",
       "    <tr>\n",
       "      <th>std</th>\n",
       "      <td>782.865651</td>\n",
       "      <td>1.153458</td>\n",
       "      <td>1.581883</td>\n",
       "      <td>1.013817</td>\n",
       "      <td>108.208588</td>\n",
       "    </tr>\n",
       "    <tr>\n",
       "      <th>min</th>\n",
       "      <td>0.000500</td>\n",
       "      <td>0.004219</td>\n",
       "      <td>0.002237</td>\n",
       "      <td>0.000000</td>\n",
       "      <td>0.000000</td>\n",
       "    </tr>\n",
       "    <tr>\n",
       "      <th>25%</th>\n",
       "      <td>0.939500</td>\n",
       "      <td>0.152988</td>\n",
       "      <td>0.159301</td>\n",
       "      <td>0.020883</td>\n",
       "      <td>8.126566</td>\n",
       "    </tr>\n",
       "    <tr>\n",
       "      <th>50%</th>\n",
       "      <td>32.206250</td>\n",
       "      <td>0.462187</td>\n",
       "      <td>0.470533</td>\n",
       "      <td>0.069968</td>\n",
       "      <td>19.862350</td>\n",
       "    </tr>\n",
       "    <tr>\n",
       "      <th>75%</th>\n",
       "      <td>191.909875</td>\n",
       "      <td>0.952370</td>\n",
       "      <td>0.926913</td>\n",
       "      <td>0.210568</td>\n",
       "      <td>40.264337</td>\n",
       "    </tr>\n",
       "    <tr>\n",
       "      <th>max</th>\n",
       "      <td>19474.926000</td>\n",
       "      <td>22.491194</td>\n",
       "      <td>77.500000</td>\n",
       "      <td>76.347122</td>\n",
       "      <td>11199.112305</td>\n",
       "    </tr>\n",
       "  </tbody>\n",
       "</table>\n",
       "</div>"
      ],
      "text/plain": [
       "           exec_time     prediction         target       abs_diff  \\\n",
       "count  421970.000000  421970.000000  421970.000000  421970.000000   \n",
       "mean      278.649851       0.783475       0.880940       0.324966   \n",
       "std       782.865651       1.153458       1.581883       1.013817   \n",
       "min         0.000500       0.004219       0.002237       0.000000   \n",
       "25%         0.939500       0.152988       0.159301       0.020883   \n",
       "50%        32.206250       0.462187       0.470533       0.069968   \n",
       "75%       191.909875       0.952370       0.926913       0.210568   \n",
       "max     19474.926000      22.491194      77.500000      76.347122   \n",
       "\n",
       "                 APE  \n",
       "count  421970.000000  \n",
       "mean       37.383327  \n",
       "std       108.208588  \n",
       "min         0.000000  \n",
       "25%         8.126566  \n",
       "50%        19.862350  \n",
       "75%        40.264337  \n",
       "max     11199.112305  "
      ]
     },
     "execution_count": 13,
     "metadata": {},
     "output_type": "execute_result"
    }
   ],
   "source": [
    "benchmark_df.describe()"
   ]
  },
  {
   "cell_type": "code",
   "execution_count": null,
   "metadata": {},
   "outputs": [],
   "source": []
  }
 ],
 "metadata": {
  "kernelspec": {
   "display_name": "Python 3",
   "language": "python",
   "name": "python3"
  },
  "language_info": {
   "codemirror_mode": {
    "name": "ipython",
    "version": 3
   },
   "file_extension": ".py",
   "mimetype": "text/x-python",
   "name": "python",
   "nbconvert_exporter": "python",
   "pygments_lexer": "ipython3",
   "version": "3.7.6"
  }
 },
 "nbformat": 4,
 "nbformat_minor": 4
}
